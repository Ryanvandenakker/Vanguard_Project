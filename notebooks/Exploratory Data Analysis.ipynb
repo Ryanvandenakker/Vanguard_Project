{
 "cells": [
  {
   "cell_type": "markdown",
   "id": "60447230-41ce-4cc0-bcc5-f3e3315f5dbe",
   "metadata": {},
   "source": [
    "# Exploratory Data Analysis"
   ]
  },
  {
   "cell_type": "code",
   "execution_count": 1,
   "id": "e13293da-cb44-4d7c-ae05-9ad54a51a53f",
   "metadata": {},
   "outputs": [],
   "source": [
    "#Import the libraries\n",
    "import pandas as pd\n",
    "import matplotlib.pyplot as plt\n",
    "import seaborn as sns\n",
    "import numpy as np\n",
    "import yaml\n",
    "import math\n",
    "\n",
    "%matplotlib inline"
   ]
  },
  {
   "cell_type": "markdown",
   "id": "366f3c9c-fe84-44ca-8b58-09b1b06a1877",
   "metadata": {},
   "source": [
    "### Client Profile EDA"
   ]
  },
  {
   "cell_type": "code",
   "execution_count": 2,
   "id": "41d5bc21-638a-4e2c-a82a-7f6aee4c4d32",
   "metadata": {},
   "outputs": [
    {
     "data": {
      "text/html": [
       "<div>\n",
       "<style scoped>\n",
       "    .dataframe tbody tr th:only-of-type {\n",
       "        vertical-align: middle;\n",
       "    }\n",
       "\n",
       "    .dataframe tbody tr th {\n",
       "        vertical-align: top;\n",
       "    }\n",
       "\n",
       "    .dataframe thead th {\n",
       "        text-align: right;\n",
       "    }\n",
       "</style>\n",
       "<table border=\"1\" class=\"dataframe\">\n",
       "  <thead>\n",
       "    <tr style=\"text-align: right;\">\n",
       "      <th></th>\n",
       "      <th>Unnamed: 0</th>\n",
       "      <th>client_id</th>\n",
       "      <th>tenure_yr</th>\n",
       "      <th>tenure_mnth</th>\n",
       "      <th>age</th>\n",
       "      <th>gender</th>\n",
       "      <th>num_acc</th>\n",
       "      <th>balance</th>\n",
       "      <th>calls</th>\n",
       "      <th>log_ons</th>\n",
       "    </tr>\n",
       "  </thead>\n",
       "  <tbody>\n",
       "    <tr>\n",
       "      <th>0</th>\n",
       "      <td>0</td>\n",
       "      <td>836976</td>\n",
       "      <td>6.0</td>\n",
       "      <td>73.0</td>\n",
       "      <td>60.5</td>\n",
       "      <td>u</td>\n",
       "      <td>2.0</td>\n",
       "      <td>45105.30</td>\n",
       "      <td>6.0</td>\n",
       "      <td>9.0</td>\n",
       "    </tr>\n",
       "    <tr>\n",
       "      <th>1</th>\n",
       "      <td>1</td>\n",
       "      <td>2304905</td>\n",
       "      <td>7.0</td>\n",
       "      <td>94.0</td>\n",
       "      <td>58.0</td>\n",
       "      <td>u</td>\n",
       "      <td>2.0</td>\n",
       "      <td>110860.30</td>\n",
       "      <td>6.0</td>\n",
       "      <td>9.0</td>\n",
       "    </tr>\n",
       "    <tr>\n",
       "      <th>2</th>\n",
       "      <td>2</td>\n",
       "      <td>1439522</td>\n",
       "      <td>5.0</td>\n",
       "      <td>64.0</td>\n",
       "      <td>32.0</td>\n",
       "      <td>u</td>\n",
       "      <td>2.0</td>\n",
       "      <td>52467.79</td>\n",
       "      <td>6.0</td>\n",
       "      <td>9.0</td>\n",
       "    </tr>\n",
       "    <tr>\n",
       "      <th>3</th>\n",
       "      <td>3</td>\n",
       "      <td>1562045</td>\n",
       "      <td>16.0</td>\n",
       "      <td>198.0</td>\n",
       "      <td>49.0</td>\n",
       "      <td>m</td>\n",
       "      <td>2.0</td>\n",
       "      <td>67454.65</td>\n",
       "      <td>3.0</td>\n",
       "      <td>6.0</td>\n",
       "    </tr>\n",
       "    <tr>\n",
       "      <th>4</th>\n",
       "      <td>4</td>\n",
       "      <td>5126305</td>\n",
       "      <td>12.0</td>\n",
       "      <td>145.0</td>\n",
       "      <td>33.0</td>\n",
       "      <td>f</td>\n",
       "      <td>2.0</td>\n",
       "      <td>103671.75</td>\n",
       "      <td>0.0</td>\n",
       "      <td>3.0</td>\n",
       "    </tr>\n",
       "  </tbody>\n",
       "</table>\n",
       "</div>"
      ],
      "text/plain": [
       "   Unnamed: 0  client_id  tenure_yr  tenure_mnth   age gender  num_acc  \\\n",
       "0           0     836976        6.0         73.0  60.5      u      2.0   \n",
       "1           1    2304905        7.0         94.0  58.0      u      2.0   \n",
       "2           2    1439522        5.0         64.0  32.0      u      2.0   \n",
       "3           3    1562045       16.0        198.0  49.0      m      2.0   \n",
       "4           4    5126305       12.0        145.0  33.0      f      2.0   \n",
       "\n",
       "     balance  calls  log_ons  \n",
       "0   45105.30    6.0      9.0  \n",
       "1  110860.30    6.0      9.0  \n",
       "2   52467.79    6.0      9.0  \n",
       "3   67454.65    3.0      6.0  \n",
       "4  103671.75    0.0      3.0  "
      ]
     },
     "execution_count": 2,
     "metadata": {},
     "output_type": "execute_result"
    }
   ],
   "source": [
    "#Load data\n",
    "clean_profile = pd.read_csv(\"../data/clean/client_profile.csv\")\n",
    "clean_profile.head()"
   ]
  },
  {
   "cell_type": "code",
   "execution_count": 3,
   "id": "8f66c865-29eb-46ad-b9f8-8795b04ae318",
   "metadata": {},
   "outputs": [
    {
     "data": {
      "text/html": [
       "<div>\n",
       "<style scoped>\n",
       "    .dataframe tbody tr th:only-of-type {\n",
       "        vertical-align: middle;\n",
       "    }\n",
       "\n",
       "    .dataframe tbody tr th {\n",
       "        vertical-align: top;\n",
       "    }\n",
       "\n",
       "    .dataframe thead th {\n",
       "        text-align: right;\n",
       "    }\n",
       "</style>\n",
       "<table border=\"1\" class=\"dataframe\">\n",
       "  <thead>\n",
       "    <tr style=\"text-align: right;\">\n",
       "      <th>col_0</th>\n",
       "      <th>count</th>\n",
       "    </tr>\n",
       "    <tr>\n",
       "      <th>gender</th>\n",
       "      <th></th>\n",
       "    </tr>\n",
       "  </thead>\n",
       "  <tbody>\n",
       "    <tr>\n",
       "      <th>f</th>\n",
       "      <td>22745</td>\n",
       "    </tr>\n",
       "    <tr>\n",
       "      <th>m</th>\n",
       "      <td>23724</td>\n",
       "    </tr>\n",
       "    <tr>\n",
       "      <th>u</th>\n",
       "      <td>24125</td>\n",
       "    </tr>\n",
       "  </tbody>\n",
       "</table>\n",
       "</div>"
      ],
      "text/plain": [
       "col_0   count\n",
       "gender       \n",
       "f       22745\n",
       "m       23724\n",
       "u       24125"
      ]
     },
     "execution_count": 3,
     "metadata": {},
     "output_type": "execute_result"
    }
   ],
   "source": [
    "# Creating a crosstab table for the 'gender' column, counting occurrences for each unique value\n",
    "my_table = pd.crosstab(index = clean_profile[\"gender\"],\n",
    "                              columns=\"count\")\n",
    "my_table"
   ]
  },
  {
   "cell_type": "code",
   "execution_count": 5,
   "id": "8604dd17-7c28-4db1-95a9-7b05fbe7c81b",
   "metadata": {},
   "outputs": [
    {
     "data": {
      "text/html": [
       "<div>\n",
       "<style scoped>\n",
       "    .dataframe tbody tr th:only-of-type {\n",
       "        vertical-align: middle;\n",
       "    }\n",
       "\n",
       "    .dataframe tbody tr th {\n",
       "        vertical-align: top;\n",
       "    }\n",
       "\n",
       "    .dataframe thead th {\n",
       "        text-align: right;\n",
       "    }\n",
       "</style>\n",
       "<table border=\"1\" class=\"dataframe\">\n",
       "  <thead>\n",
       "    <tr style=\"text-align: right;\">\n",
       "      <th>col_0</th>\n",
       "      <th>count</th>\n",
       "    </tr>\n",
       "    <tr>\n",
       "      <th>gender</th>\n",
       "      <th></th>\n",
       "    </tr>\n",
       "  </thead>\n",
       "  <tbody>\n",
       "    <tr>\n",
       "      <th>f</th>\n",
       "      <td>0.32</td>\n",
       "    </tr>\n",
       "    <tr>\n",
       "      <th>m</th>\n",
       "      <td>0.34</td>\n",
       "    </tr>\n",
       "    <tr>\n",
       "      <th>u</th>\n",
       "      <td>0.34</td>\n",
       "    </tr>\n",
       "  </tbody>\n",
       "</table>\n",
       "</div>"
      ],
      "text/plain": [
       "col_0   count\n",
       "gender       \n",
       "f        0.32\n",
       "m        0.34\n",
       "u        0.34"
      ]
     },
     "metadata": {},
     "output_type": "display_data"
    },
    {
     "name": "stdout",
     "output_type": "stream",
     "text": [
      "32% of clients are females\n",
      "34% of clients are males\n",
      "34% of clients are unknown\n"
     ]
    }
   ],
   "source": [
    "proportion_table = (my_table/my_table.sum()).round(2)\n",
    "display(proportion_table)\n",
    "print(\"32% of clients are females\")\n",
    "print(\"34% of clients are males\")\n",
    "print(\"34% of clients are unknown\")"
   ]
  },
  {
   "cell_type": "code",
   "execution_count": 6,
   "id": "9c08239c-d542-405d-beb4-c2489d96c6fc",
   "metadata": {},
   "outputs": [
    {
     "name": "stderr",
     "output_type": "stream",
     "text": [
      "/var/folders/kz/yfq5dclx7cd6vx_pj9dj5d6m0000gn/T/ipykernel_17279/1338046654.py:2: FutureWarning: \n",
      "\n",
      "Passing `palette` without assigning `hue` is deprecated and will be removed in v0.14.0. Assign the `x` variable to `hue` and set `legend=False` for the same effect.\n",
      "\n",
      "  sns.barplot(x=my_table.index, y=my_table[\"count\"], palette=\"Set3\")\n"
     ]
    },
    {
     "data": {
      "text/plain": [
       "Text(0.5, 1.0, 'Gender Distribution of Primary Clients')"
      ]
     },
     "execution_count": 6,
     "metadata": {},
     "output_type": "execute_result"
    },
    {
     "data": {
      "image/png": "[encoded data removed]",
      "text/plain": [
       "<Figure size 640x480 with 1 Axes>"
      ]
     },
     "metadata": {},
     "output_type": "display_data"
    }
   ],
   "source": [
    "# Plotting a bar chart using the 'count' values from 'my_table'\n",
    "sns.barplot(x=my_table.index, y=my_table[\"count\"], palette=\"Set3\")\n",
    "plt.title(\"Gender Distribution of Primary Clients\")"
   ]
  },
  {
   "cell_type": "code",
   "execution_count": 7,
   "id": "53699817-ee00-47d2-8a8e-c11a8820dac9",
   "metadata": {},
   "outputs": [
    {
     "data": {
      "text/plain": [
       "Text(0.5, 1.0, 'Age Distribution of Primary Clients')"
      ]
     },
     "execution_count": 7,
     "metadata": {},
     "output_type": "execute_result"
    },
    {
     "data": {
      "image/png": "[encoded data removed]",
      "text/plain": [
       "<Figure size 640x480 with 1 Axes>"
      ]
     },
     "metadata": {},
     "output_type": "display_data"
    }
   ],
   "source": [
    "# Plotting a histogram for the 'age' column of the 'primary_clients' dataframe\n",
    "sns.histplot(clean_profile['age'], kde=True, bins=30, color=\"salmon\")\n",
    "plt.title(\"Age Distribution of Primary Clients\")"
   ]
  },
  {
   "cell_type": "code",
   "execution_count": 8,
   "id": "2c5fd7e9-1c96-4970-9ca3-ead11e670ca5",
   "metadata": {},
   "outputs": [
    {
     "data": {
      "text/html": [
       "<div>\n",
       "<style scoped>\n",
       "    .dataframe tbody tr th:only-of-type {\n",
       "        vertical-align: middle;\n",
       "    }\n",
       "\n",
       "    .dataframe tbody tr th {\n",
       "        vertical-align: top;\n",
       "    }\n",
       "\n",
       "    .dataframe thead th {\n",
       "        text-align: right;\n",
       "    }\n",
       "</style>\n",
       "<table border=\"1\" class=\"dataframe\">\n",
       "  <thead>\n",
       "    <tr style=\"text-align: right;\">\n",
       "      <th>col_0</th>\n",
       "      <th>count</th>\n",
       "    </tr>\n",
       "    <tr>\n",
       "      <th>num_acc</th>\n",
       "      <th></th>\n",
       "    </tr>\n",
       "  </thead>\n",
       "  <tbody>\n",
       "    <tr>\n",
       "      <th>1.0</th>\n",
       "      <td>2</td>\n",
       "    </tr>\n",
       "    <tr>\n",
       "      <th>2.0</th>\n",
       "      <td>55496</td>\n",
       "    </tr>\n",
       "    <tr>\n",
       "      <th>3.0</th>\n",
       "      <td>12529</td>\n",
       "    </tr>\n",
       "    <tr>\n",
       "      <th>4.0</th>\n",
       "      <td>2241</td>\n",
       "    </tr>\n",
       "    <tr>\n",
       "      <th>5.0</th>\n",
       "      <td>284</td>\n",
       "    </tr>\n",
       "    <tr>\n",
       "      <th>6.0</th>\n",
       "      <td>33</td>\n",
       "    </tr>\n",
       "    <tr>\n",
       "      <th>7.0</th>\n",
       "      <td>8</td>\n",
       "    </tr>\n",
       "    <tr>\n",
       "      <th>8.0</th>\n",
       "      <td>1</td>\n",
       "    </tr>\n",
       "  </tbody>\n",
       "</table>\n",
       "</div>"
      ],
      "text/plain": [
       "col_0    count\n",
       "num_acc       \n",
       "1.0          2\n",
       "2.0      55496\n",
       "3.0      12529\n",
       "4.0       2241\n",
       "5.0        284\n",
       "6.0         33\n",
       "7.0          8\n",
       "8.0          1"
      ]
     },
     "execution_count": 8,
     "metadata": {},
     "output_type": "execute_result"
    }
   ],
   "source": [
    "# Creating a crosstab table for the 'num_acc' column, counting occurrences for each unique value\n",
    "account_freq = pd.crosstab(index = clean_profile[\"num_acc\"], columns=\"count\")\n",
    "account_freq"
   ]
  },
  {
   "cell_type": "code",
   "execution_count": 9,
   "id": "fc241edc-a88f-4d9e-a2d8-e128edb1ba17",
   "metadata": {},
   "outputs": [
    {
     "name": "stderr",
     "output_type": "stream",
     "text": [
      "/var/folders/kz/yfq5dclx7cd6vx_pj9dj5d6m0000gn/T/ipykernel_17279/3815232825.py:2: FutureWarning: \n",
      "\n",
      "Passing `palette` without assigning `hue` is deprecated and will be removed in v0.14.0. Assign the `x` variable to `hue` and set `legend=False` for the same effect.\n",
      "\n",
      "  sns.barplot(x=account_freq.index, y=account_freq[\"count\"], palette=\"Set3\")\n"
     ]
    },
    {
     "data": {
      "text/plain": [
       "Text(0.5, 1.0, 'Account Type Distribution of Primary Clients')"
      ]
     },
     "execution_count": 9,
     "metadata": {},
     "output_type": "execute_result"
    },
    {
     "data": {
      "image/png": "[encoded data removed]",
      "text/plain": [
       "<Figure size 640x480 with 1 Axes>"
      ]
     },
     "metadata": {},
     "output_type": "display_data"
    }
   ],
   "source": [
    "# Plotting a bar chart using the 'count' values from 'account_freq'\n",
    "sns.barplot(x=account_freq.index, y=account_freq[\"count\"], palette=\"Set3\")\n",
    "plt.xlabel(\"Number of Accounts\")\n",
    "plt.title(\"Account Type Distribution of Primary Clients\")"
   ]
  },
  {
   "cell_type": "code",
   "execution_count": 10,
   "id": "03050069-3cee-44f9-88d2-7c500d10c9b6",
   "metadata": {},
   "outputs": [
    {
     "data": {
      "text/plain": [
       "Text(0.5, 1.0, 'Tenure Distribution of Primary Clients')"
      ]
     },
     "execution_count": 10,
     "metadata": {},
     "output_type": "execute_result"
    },
    {
     "data": {
      "image/png": "[encoded data removed]",
      "text/plain": [
       "<Figure size 640x480 with 1 Axes>"
      ]
     },
     "metadata": {},
     "output_type": "display_data"
    }
   ],
   "source": [
    "# Plotting a histogram of client tenure\n",
    "sns.histplot(clean_profile['tenure_yr'], kde = True, bins = 30, color = 'salmon')\n",
    "plt.xlabel(\"Client Tenure (Years)\")\n",
    "plt.title(\"Tenure Distribution of Primary Clients\")"
   ]
  },
  {
   "cell_type": "code",
   "execution_count": 11,
   "id": "8a4d503d-4fe3-424e-9a92-37ea93de7ca3",
   "metadata": {},
   "outputs": [
    {
     "data": {
      "text/plain": [
       "Text(0, 0.5, 'Tenure (years)')"
      ]
     },
     "execution_count": 11,
     "metadata": {},
     "output_type": "execute_result"
    },
    {
     "data": {
      "image/png": "[encoded data removed]",
      "text/plain": [
       "<Figure size 640x480 with 1 Axes>"
      ]
     },
     "metadata": {},
     "output_type": "display_data"
    }
   ],
   "source": [
    "#Boxplot\n",
    "sns.boxplot(data = clean_profile['tenure_yr'], color=\"salmon\")\n",
    "plt.ylabel(\"Tenure (years)\")"
   ]
  },
  {
   "cell_type": "code",
   "execution_count": 12,
   "id": "10252ed3-b337-43ed-b832-be9e84ef32ad",
   "metadata": {},
   "outputs": [
    {
     "name": "stdout",
     "output_type": "stream",
     "text": [
      "The mean age of primary clients is 46.4 years old.\n",
      "The mean tenure of primary clients is 12.1 years.\n",
      "The mean number of accounts held by primary clients is 2.3.\n",
      "The mean number of calls made in the last 6 months is 3.4 times.\n",
      "The mean number of log ons made in the last 6 months is 5.6 times.\n"
     ]
    }
   ],
   "source": [
    "#Mean age of primary clients\n",
    "mean_age = clean_profile['age'].mean()\n",
    "print(f\"The mean age of primary clients is {mean_age:.1f} years old.\")\n",
    "\n",
    "#Mean tenure of primary clients\n",
    "mean_tenure = clean_profile['tenure_yr'].mean()\n",
    "print(f\"The mean tenure of primary clients is {mean_tenure:.1f} years.\")\n",
    "\n",
    "#Mean accounts of primary clients\n",
    "mean_accounts = clean_profile['num_acc'].mean()\n",
    "print(f\"The mean number of accounts held by primary clients is {mean_accounts:.1f}.\")\n",
    "\n",
    "#Mean calls of primary clients\n",
    "mean_calls = clean_profile['calls'].mean()\n",
    "print(f\"The mean number of calls made in the last 6 months is {mean_calls:.1f} times.\")\n",
    "\n",
    "#Mean logons of primary clients\n",
    "mean_logons = clean_profile['log_ons'].mean()\n",
    "print(f\"The mean number of log ons made in the last 6 months is {mean_logons:.1f} times.\")"
   ]
  },
  {
   "cell_type": "code",
   "execution_count": 12,
   "id": "8de2399c-45f4-4c3c-ad54-879500e0ecf3",
   "metadata": {},
   "outputs": [],
   "source": [
    "### Experiment Roster EDA"
   ]
  },
  {
   "cell_type": "code",
   "execution_count": 6,
   "id": "fd199c50-be75-418b-93cc-3ce76df2ad84",
   "metadata": {},
   "outputs": [
    {
     "data": {
      "text/html": [
       "<div>\n",
       "<style scoped>\n",
       "    .dataframe tbody tr th:only-of-type {\n",
       "        vertical-align: middle;\n",
       "    }\n",
       "\n",
       "    .dataframe tbody tr th {\n",
       "        vertical-align: top;\n",
       "    }\n",
       "\n",
       "    .dataframe thead th {\n",
       "        text-align: right;\n",
       "    }\n",
       "</style>\n",
       "<table border=\"1\" class=\"dataframe\">\n",
       "  <thead>\n",
       "    <tr style=\"text-align: right;\">\n",
       "      <th></th>\n",
       "      <th>Unnamed: 0</th>\n",
       "      <th>client_id</th>\n",
       "      <th>variation</th>\n",
       "    </tr>\n",
       "  </thead>\n",
       "  <tbody>\n",
       "    <tr>\n",
       "      <th>0</th>\n",
       "      <td>0</td>\n",
       "      <td>9988021</td>\n",
       "      <td>test</td>\n",
       "    </tr>\n",
       "    <tr>\n",
       "      <th>1</th>\n",
       "      <td>1</td>\n",
       "      <td>8320017</td>\n",
       "      <td>test</td>\n",
       "    </tr>\n",
       "    <tr>\n",
       "      <th>2</th>\n",
       "      <td>2</td>\n",
       "      <td>4033851</td>\n",
       "      <td>control</td>\n",
       "    </tr>\n",
       "    <tr>\n",
       "      <th>3</th>\n",
       "      <td>3</td>\n",
       "      <td>1982004</td>\n",
       "      <td>test</td>\n",
       "    </tr>\n",
       "    <tr>\n",
       "      <th>4</th>\n",
       "      <td>4</td>\n",
       "      <td>9294070</td>\n",
       "      <td>control</td>\n",
       "    </tr>\n",
       "  </tbody>\n",
       "</table>\n",
       "</div>"
      ],
      "text/plain": [
       "   Unnamed: 0  client_id variation\n",
       "0           0    9988021      test\n",
       "1           1    8320017      test\n",
       "2           2    4033851   control\n",
       "3           3    1982004      test\n",
       "4           4    9294070   control"
      ]
     },
     "execution_count": 6,
     "metadata": {},
     "output_type": "execute_result"
    }
   ],
   "source": [
    "#Load data\n",
    "clean_experiment = pd.read_csv(\"../data/clean/experiment_roster.csv\")\n",
    "clean_experiment.head()"
   ]
  },
  {
   "cell_type": "code",
   "execution_count": 14,
   "id": "d0126dae-1625-4ce1-a21a-19bdb7436d34",
   "metadata": {},
   "outputs": [
    {
     "data": {
      "text/html": [
       "<div>\n",
       "<style scoped>\n",
       "    .dataframe tbody tr th:only-of-type {\n",
       "        vertical-align: middle;\n",
       "    }\n",
       "\n",
       "    .dataframe tbody tr th {\n",
       "        vertical-align: top;\n",
       "    }\n",
       "\n",
       "    .dataframe thead th {\n",
       "        text-align: right;\n",
       "    }\n",
       "</style>\n",
       "<table border=\"1\" class=\"dataframe\">\n",
       "  <thead>\n",
       "    <tr style=\"text-align: right;\">\n",
       "      <th>col_0</th>\n",
       "      <th>count</th>\n",
       "    </tr>\n",
       "    <tr>\n",
       "      <th>variation</th>\n",
       "      <th></th>\n",
       "    </tr>\n",
       "  </thead>\n",
       "  <tbody>\n",
       "    <tr>\n",
       "      <th>control</th>\n",
       "      <td>23532</td>\n",
       "    </tr>\n",
       "    <tr>\n",
       "      <th>test</th>\n",
       "      <td>26968</td>\n",
       "    </tr>\n",
       "  </tbody>\n",
       "</table>\n",
       "</div>"
      ],
      "text/plain": [
       "col_0      count\n",
       "variation       \n",
       "control    23532\n",
       "test       26968"
      ]
     },
     "execution_count": 14,
     "metadata": {},
     "output_type": "execute_result"
    }
   ],
   "source": [
    "# Creating a crosstab table for the 'variation' column, counting occurrences for each unique value\n",
    "variation_freq = pd.crosstab(index = clean_experiment[\"variation\"], columns=\"count\")\n",
    "variation_freq"
   ]
  },
  {
   "cell_type": "code",
   "execution_count": 15,
   "id": "6fc4fdd2-d076-4c45-917e-bda097aad4fe",
   "metadata": {},
   "outputs": [
    {
     "name": "stderr",
     "output_type": "stream",
     "text": [
      "/var/folders/kz/yfq5dclx7cd6vx_pj9dj5d6m0000gn/T/ipykernel_17279/2556262292.py:2: FutureWarning: \n",
      "\n",
      "Passing `palette` without assigning `hue` is deprecated and will be removed in v0.14.0. Assign the `x` variable to `hue` and set `legend=False` for the same effect.\n",
      "\n",
      "  sns.barplot(x=variation_freq.index, y=variation_freq[\"count\"], palette=\"Set3\")\n"
     ]
    },
    {
     "data": {
      "text/plain": [
       "Text(0.5, 1.0, 'Experimental Group Distribution of Primary Clients')"
      ]
     },
     "execution_count": 15,
     "metadata": {},
     "output_type": "execute_result"
    },
    {
     "data": {
      "image/png": "[encoded data removed]",
      "text/plain": [
       "<Figure size 640x480 with 1 Axes>"
      ]
     },
     "metadata": {},
     "output_type": "display_data"
    }
   ],
   "source": [
    "# Plotting a bar chart using the 'count' values from 'variation_freq'\n",
    "sns.barplot(x=variation_freq.index, y=variation_freq[\"count\"], palette=\"Set3\")\n",
    "plt.xlabel(\"Experimental Group\")\n",
    "plt.title(\"Experimental Group Distribution of Primary Clients\")"
   ]
  },
  {
   "cell_type": "markdown",
   "id": "fa954bb2-7f37-47d1-bf1d-a248dab10705",
   "metadata": {},
   "source": [
    "## Bivariate Analysis"
   ]
  },
  {
   "cell_type": "code",
   "execution_count": 7,
   "id": "1dc0e8f3-6b88-4c15-916a-0923175db8a0",
   "metadata": {},
   "outputs": [
    {
     "data": {
      "text/html": [
       "<div>\n",
       "<style scoped>\n",
       "    .dataframe tbody tr th:only-of-type {\n",
       "        vertical-align: middle;\n",
       "    }\n",
       "\n",
       "    .dataframe tbody tr th {\n",
       "        vertical-align: top;\n",
       "    }\n",
       "\n",
       "    .dataframe thead th {\n",
       "        text-align: right;\n",
       "    }\n",
       "</style>\n",
       "<table border=\"1\" class=\"dataframe\">\n",
       "  <thead>\n",
       "    <tr style=\"text-align: right;\">\n",
       "      <th></th>\n",
       "      <th>Unnamed: 0_x</th>\n",
       "      <th>client_id</th>\n",
       "      <th>tenure_yr</th>\n",
       "      <th>tenure_mnth</th>\n",
       "      <th>age</th>\n",
       "      <th>gender</th>\n",
       "      <th>num_acc</th>\n",
       "      <th>balance</th>\n",
       "      <th>calls</th>\n",
       "      <th>log_ons</th>\n",
       "      <th>Unnamed: 0_y</th>\n",
       "      <th>variation</th>\n",
       "    </tr>\n",
       "  </thead>\n",
       "  <tbody>\n",
       "    <tr>\n",
       "      <th>0</th>\n",
       "      <td>0</td>\n",
       "      <td>836976</td>\n",
       "      <td>6.0</td>\n",
       "      <td>73.0</td>\n",
       "      <td>60.5</td>\n",
       "      <td>u</td>\n",
       "      <td>2.0</td>\n",
       "      <td>45105.30</td>\n",
       "      <td>6.0</td>\n",
       "      <td>9.0</td>\n",
       "      <td>36573</td>\n",
       "      <td>test</td>\n",
       "    </tr>\n",
       "    <tr>\n",
       "      <th>1</th>\n",
       "      <td>1</td>\n",
       "      <td>2304905</td>\n",
       "      <td>7.0</td>\n",
       "      <td>94.0</td>\n",
       "      <td>58.0</td>\n",
       "      <td>u</td>\n",
       "      <td>2.0</td>\n",
       "      <td>110860.30</td>\n",
       "      <td>6.0</td>\n",
       "      <td>9.0</td>\n",
       "      <td>16871</td>\n",
       "      <td>control</td>\n",
       "    </tr>\n",
       "    <tr>\n",
       "      <th>2</th>\n",
       "      <td>2</td>\n",
       "      <td>1439522</td>\n",
       "      <td>5.0</td>\n",
       "      <td>64.0</td>\n",
       "      <td>32.0</td>\n",
       "      <td>u</td>\n",
       "      <td>2.0</td>\n",
       "      <td>52467.79</td>\n",
       "      <td>6.0</td>\n",
       "      <td>9.0</td>\n",
       "      <td>33376</td>\n",
       "      <td>test</td>\n",
       "    </tr>\n",
       "    <tr>\n",
       "      <th>3</th>\n",
       "      <td>3</td>\n",
       "      <td>1562045</td>\n",
       "      <td>16.0</td>\n",
       "      <td>198.0</td>\n",
       "      <td>49.0</td>\n",
       "      <td>m</td>\n",
       "      <td>2.0</td>\n",
       "      <td>67454.65</td>\n",
       "      <td>3.0</td>\n",
       "      <td>6.0</td>\n",
       "      <td>20467</td>\n",
       "      <td>test</td>\n",
       "    </tr>\n",
       "    <tr>\n",
       "      <th>4</th>\n",
       "      <td>4</td>\n",
       "      <td>5126305</td>\n",
       "      <td>12.0</td>\n",
       "      <td>145.0</td>\n",
       "      <td>33.0</td>\n",
       "      <td>f</td>\n",
       "      <td>2.0</td>\n",
       "      <td>103671.75</td>\n",
       "      <td>0.0</td>\n",
       "      <td>3.0</td>\n",
       "      <td>32883</td>\n",
       "      <td>control</td>\n",
       "    </tr>\n",
       "  </tbody>\n",
       "</table>\n",
       "</div>"
      ],
      "text/plain": [
       "   Unnamed: 0_x  client_id  tenure_yr  tenure_mnth   age gender  num_acc  \\\n",
       "0             0     836976        6.0         73.0  60.5      u      2.0   \n",
       "1             1    2304905        7.0         94.0  58.0      u      2.0   \n",
       "2             2    1439522        5.0         64.0  32.0      u      2.0   \n",
       "3             3    1562045       16.0        198.0  49.0      m      2.0   \n",
       "4             4    5126305       12.0        145.0  33.0      f      2.0   \n",
       "\n",
       "     balance  calls  log_ons  Unnamed: 0_y variation  \n",
       "0   45105.30    6.0      9.0         36573      test  \n",
       "1  110860.30    6.0      9.0         16871   control  \n",
       "2   52467.79    6.0      9.0         33376      test  \n",
       "3   67454.65    3.0      6.0         20467      test  \n",
       "4  103671.75    0.0      3.0         32883   control  "
      ]
     },
     "execution_count": 7,
     "metadata": {},
     "output_type": "execute_result"
    }
   ],
   "source": [
    "df_merged = pd.merge(clean_profile, clean_experiment, on = 'client_id', how = 'inner')\n",
    "df_merged.head()"
   ]
  },
  {
   "cell_type": "code",
   "execution_count": 8,
   "id": "613c2d2d-2904-4bb5-bda4-1c6b4ce6f9ed",
   "metadata": {},
   "outputs": [
    {
     "data": {
      "text/html": [
       "<div>\n",
       "<style scoped>\n",
       "    .dataframe tbody tr th:only-of-type {\n",
       "        vertical-align: middle;\n",
       "    }\n",
       "\n",
       "    .dataframe tbody tr th {\n",
       "        vertical-align: top;\n",
       "    }\n",
       "\n",
       "    .dataframe thead th {\n",
       "        text-align: right;\n",
       "    }\n",
       "</style>\n",
       "<table border=\"1\" class=\"dataframe\">\n",
       "  <thead>\n",
       "    <tr style=\"text-align: right;\">\n",
       "      <th>variation</th>\n",
       "      <th>control</th>\n",
       "      <th>test</th>\n",
       "    </tr>\n",
       "    <tr>\n",
       "      <th>gender</th>\n",
       "      <th></th>\n",
       "      <th></th>\n",
       "    </tr>\n",
       "  </thead>\n",
       "  <tbody>\n",
       "    <tr>\n",
       "      <th>f</th>\n",
       "      <td>7542</td>\n",
       "      <td>8716</td>\n",
       "    </tr>\n",
       "    <tr>\n",
       "      <th>m</th>\n",
       "      <td>7970</td>\n",
       "      <td>8977</td>\n",
       "    </tr>\n",
       "    <tr>\n",
       "      <th>u</th>\n",
       "      <td>8014</td>\n",
       "      <td>9268</td>\n",
       "    </tr>\n",
       "  </tbody>\n",
       "</table>\n",
       "</div>"
      ],
      "text/plain": [
       "variation  control  test\n",
       "gender                  \n",
       "f             7542  8716\n",
       "m             7970  8977\n",
       "u             8014  9268"
      ]
     },
     "execution_count": 8,
     "metadata": {},
     "output_type": "execute_result"
    }
   ],
   "source": [
    "# Generating a crosstab for 'gender' and 'variation'\n",
    "crosstab_result = pd.crosstab(df_merged['gender'], df_merged['variation'])\n",
    "crosstab_result"
   ]
  },
  {
   "cell_type": "code",
   "execution_count": 9,
   "id": "fbc35d5b-9012-4d49-ae52-e447a6a845e2",
   "metadata": {},
   "outputs": [
    {
     "data": {
      "text/plain": [
       "Text(0.5, 1.0, 'Distribution of Gender by Experimental Group')"
      ]
     },
     "execution_count": 9,
     "metadata": {},
     "output_type": "execute_result"
    },
    {
     "data": {
      "image/png": "[encoded data removed]",
      "text/plain": [
       "<Figure size 640x480 with 1 Axes>"
      ]
     },
     "metadata": {},
     "output_type": "display_data"
    }
   ],
   "source": [
    "# Plotting a grouped bar chart\n",
    "sns.countplot(data=df_merged, x='variation', hue='gender', palette=\"Set3\")\n",
    "plt.xlabel(\"Experimental Group\")\n",
    "plt.title(\"Distribution of Gender by Experimental Group\")\n",
    "\n",
    "plt.savefig"
   ]
  },
  {
   "cell_type": "code",
   "execution_count": 19,
   "id": "78818c88-b900-4f7f-9ac0-1a478bf756c1",
   "metadata": {},
   "outputs": [
    {
     "name": "stdout",
     "output_type": "stream",
     "text": [
      "Accept the null hypothesis. There is not a significant association between the categorical variables.\n"
     ]
    }
   ],
   "source": [
    "from scipy.stats import chi2_contingency\n",
    "\n",
    "# Chi-square test for 'gender' and 'variation'\n",
    "chi2_statistic, p, _, _ = chi2_contingency(crosstab_result)\n",
    "\n",
    "chi2_statistic, p\n",
    "\n",
    "alpha = 0.05\n",
    "if p<0.05:\n",
    "    print(\"Reject the null hypothesis. There is a significant association between the categorical variables.\")\n",
    "else:\n",
    "    print(\"Accept the null hypothesis. There is not a significant association between the categorical variables.\")"
   ]
  },
  {
   "cell_type": "code",
   "execution_count": 20,
   "id": "5b5a4981-4ba2-4146-912a-dd1e71cb7a88",
   "metadata": {},
   "outputs": [
    {
     "name": "stdout",
     "output_type": "stream",
     "text": [
      "A Cramér's V of 0.0061 further indicates no significant association between 'gender' and 'variation'\n"
     ]
    }
   ],
   "source": [
    "from scipy.stats.contingency import association\n",
    "\n",
    "# Computing the association between variables in 'crosstab_result' using the \"cramer\" method\n",
    "cramer_v = association(crosstab_result, method=\"cramer\")\n",
    "cramer_v\n",
    "print(f\"A Cramér's V of {cramer_v:.4f} further indicates no significant association between 'gender' and 'variation'\")"
   ]
  },
  {
   "cell_type": "code",
   "execution_count": 21,
   "id": "8db3a9b1-6244-4d08-aa5d-32a14eb30b42",
   "metadata": {},
   "outputs": [
    {
     "name": "stderr",
     "output_type": "stream",
     "text": [
      "/var/folders/kz/yfq5dclx7cd6vx_pj9dj5d6m0000gn/T/ipykernel_17279/2533652408.py:2: FutureWarning: \n",
      "\n",
      "Passing `palette` without assigning `hue` is deprecated and will be removed in v0.14.0. Assign the `x` variable to `hue` and set `legend=False` for the same effect.\n",
      "\n",
      "  sns.boxplot(data=df_merged, y='tenure_yr', x='variation', palette=\"coolwarm\")\n"
     ]
    },
    {
     "data": {
      "text/plain": [
       "<Axes: xlabel='variation', ylabel='tenure_yr'>"
      ]
     },
     "execution_count": 21,
     "metadata": {},
     "output_type": "execute_result"
    },
    {
     "data": {
      "image/png": "[encoded data removed]",
      "text/plain": [
       "<Figure size 640x480 with 1 Axes>"
      ]
     },
     "metadata": {},
     "output_type": "display_data"
    }
   ],
   "source": [
    "# Plotting a box plot to visualize the spread and outliers of 'tenure_yr' for each 'category'\n",
    "sns.boxplot(data=df_merged, y='tenure_yr', x='variation', palette=\"coolwarm\")"
   ]
  },
  {
   "cell_type": "code",
   "execution_count": 22,
   "id": "c161c776-a890-4310-8f3e-4d9f6444a85b",
   "metadata": {},
   "outputs": [
    {
     "name": "stderr",
     "output_type": "stream",
     "text": [
      "/var/folders/kz/yfq5dclx7cd6vx_pj9dj5d6m0000gn/T/ipykernel_17279/1082786730.py:2: FutureWarning: \n",
      "\n",
      "Passing `palette` without assigning `hue` is deprecated and will be removed in v0.14.0. Assign the `x` variable to `hue` and set `legend=False` for the same effect.\n",
      "\n",
      "  sns.barplot(data=df_merged, y='tenure_yr', x='num_acc', palette='coolwarm')\n"
     ]
    },
    {
     "data": {
      "text/plain": [
       "Text(0, 0.5, 'Average Tenure (Years)')"
      ]
     },
     "execution_count": 22,
     "metadata": {},
     "output_type": "execute_result"
    },
    {
     "data": {
      "image/png": "[encoded data removed]",
      "text/plain": [
       "<Figure size 640x480 with 1 Axes>"
      ]
     },
     "metadata": {},
     "output_type": "display_data"
    }
   ],
   "source": [
    "# Plotting a bar chart to visualize the relationship between 'tenure_yr' and 'num_acc'\n",
    "sns.barplot(data=df_merged, y='tenure_yr', x='num_acc', palette='coolwarm')\n",
    "plt.xlabel(\"Number of Accounts\")\n",
    "plt.ylabel(\"Average Tenure (Years)\")"
   ]
  },
  {
   "cell_type": "code",
   "execution_count": 23,
   "id": "0286d3cb-b872-4d8c-952d-dc9cc8fc58cf",
   "metadata": {},
   "outputs": [
    {
     "name": "stderr",
     "output_type": "stream",
     "text": [
      "/var/folders/kz/yfq5dclx7cd6vx_pj9dj5d6m0000gn/T/ipykernel_17279/2419067861.py:2: FutureWarning: \n",
      "\n",
      "Passing `palette` without assigning `hue` is deprecated and will be removed in v0.14.0. Assign the `x` variable to `hue` and set `legend=False` for the same effect.\n",
      "\n",
      "  sns.barplot(data=df_merged, y='balance', x='num_acc', palette='coolwarm')\n"
     ]
    },
    {
     "data": {
      "text/plain": [
       "Text(0.5, 1.0, 'Average Client Balance by Number of Accounts')"
      ]
     },
     "execution_count": 23,
     "metadata": {},
     "output_type": "execute_result"
    },
    {
     "data": {
      "image/png": "[encoded data removed]",
      "text/plain": [
       "<Figure size 640x480 with 1 Axes>"
      ]
     },
     "metadata": {},
     "output_type": "display_data"
    }
   ],
   "source": [
    "# Plotting a violin plot to visualize the relationship between 'balance' and 'num_acc'\n",
    "sns.barplot(data=df_merged, y='balance', x='num_acc', palette='coolwarm')\n",
    "plt.xlabel(\"Number of Accounts\")\n",
    "plt.ylabel(\"Average Client Balance\")\n",
    "plt.title('Average Client Balance by Number of Accounts')"
   ]
  },
  {
   "cell_type": "code",
   "execution_count": 24,
   "id": "83d86d89-cec0-4fe6-8da4-9210203f7533",
   "metadata": {},
   "outputs": [
    {
     "data": {
      "text/html": [
       "<div>\n",
       "<style scoped>\n",
       "    .dataframe tbody tr th:only-of-type {\n",
       "        vertical-align: middle;\n",
       "    }\n",
       "\n",
       "    .dataframe tbody tr th {\n",
       "        vertical-align: top;\n",
       "    }\n",
       "\n",
       "    .dataframe thead th {\n",
       "        text-align: right;\n",
       "    }\n",
       "</style>\n",
       "<table border=\"1\" class=\"dataframe\">\n",
       "  <thead>\n",
       "    <tr style=\"text-align: right;\">\n",
       "      <th></th>\n",
       "      <th>Unnamed: 0</th>\n",
       "      <th>client_id</th>\n",
       "      <th>visitor_id</th>\n",
       "      <th>visit_id</th>\n",
       "      <th>process_step</th>\n",
       "      <th>date_time</th>\n",
       "      <th>date</th>\n",
       "      <th>time</th>\n",
       "    </tr>\n",
       "  </thead>\n",
       "  <tbody>\n",
       "    <tr>\n",
       "      <th>0</th>\n",
       "      <td>0</td>\n",
       "      <td>9988021</td>\n",
       "      <td>580560515_7732621733</td>\n",
       "      <td>781255054_21935453173_531117</td>\n",
       "      <td>step_3</td>\n",
       "      <td>2017-04-17 15:27:07</td>\n",
       "      <td>2017-04-17</td>\n",
       "      <td>15:27:07</td>\n",
       "    </tr>\n",
       "    <tr>\n",
       "      <th>1</th>\n",
       "      <td>1</td>\n",
       "      <td>9988021</td>\n",
       "      <td>580560515_7732621733</td>\n",
       "      <td>781255054_21935453173_531117</td>\n",
       "      <td>step_2</td>\n",
       "      <td>2017-04-17 15:26:51</td>\n",
       "      <td>2017-04-17</td>\n",
       "      <td>15:26:51</td>\n",
       "    </tr>\n",
       "    <tr>\n",
       "      <th>2</th>\n",
       "      <td>2</td>\n",
       "      <td>9988021</td>\n",
       "      <td>580560515_7732621733</td>\n",
       "      <td>781255054_21935453173_531117</td>\n",
       "      <td>step_3</td>\n",
       "      <td>2017-04-17 15:19:22</td>\n",
       "      <td>2017-04-17</td>\n",
       "      <td>15:19:22</td>\n",
       "    </tr>\n",
       "    <tr>\n",
       "      <th>3</th>\n",
       "      <td>3</td>\n",
       "      <td>9988021</td>\n",
       "      <td>580560515_7732621733</td>\n",
       "      <td>781255054_21935453173_531117</td>\n",
       "      <td>step_2</td>\n",
       "      <td>2017-04-17 15:19:13</td>\n",
       "      <td>2017-04-17</td>\n",
       "      <td>15:19:13</td>\n",
       "    </tr>\n",
       "    <tr>\n",
       "      <th>4</th>\n",
       "      <td>4</td>\n",
       "      <td>9988021</td>\n",
       "      <td>580560515_7732621733</td>\n",
       "      <td>781255054_21935453173_531117</td>\n",
       "      <td>step_3</td>\n",
       "      <td>2017-04-17 15:18:04</td>\n",
       "      <td>2017-04-17</td>\n",
       "      <td>15:18:04</td>\n",
       "    </tr>\n",
       "  </tbody>\n",
       "</table>\n",
       "</div>"
      ],
      "text/plain": [
       "   Unnamed: 0  client_id            visitor_id                      visit_id  \\\n",
       "0           0    9988021  580560515_7732621733  781255054_21935453173_531117   \n",
       "1           1    9988021  580560515_7732621733  781255054_21935453173_531117   \n",
       "2           2    9988021  580560515_7732621733  781255054_21935453173_531117   \n",
       "3           3    9988021  580560515_7732621733  781255054_21935453173_531117   \n",
       "4           4    9988021  580560515_7732621733  781255054_21935453173_531117   \n",
       "\n",
       "  process_step            date_time        date      time  \n",
       "0       step_3  2017-04-17 15:27:07  2017-04-17  15:27:07  \n",
       "1       step_2  2017-04-17 15:26:51  2017-04-17  15:26:51  \n",
       "2       step_3  2017-04-17 15:19:22  2017-04-17  15:19:22  \n",
       "3       step_2  2017-04-17 15:19:13  2017-04-17  15:19:13  \n",
       "4       step_3  2017-04-17 15:18:04  2017-04-17  15:18:04  "
      ]
     },
     "execution_count": 24,
     "metadata": {},
     "output_type": "execute_result"
    }
   ],
   "source": [
    "#Load data\n",
    "df_digital = pd.read_csv(\"../data/clean/digital_footprint.csv\")\n",
    "df_digital.head()"
   ]
  },
  {
   "cell_type": "code",
   "execution_count": 25,
   "id": "976c804b-68d5-4c2c-980f-38bb8ba3c30b",
   "metadata": {},
   "outputs": [
    {
     "data": {
      "text/html": [
       "<div>\n",
       "<style scoped>\n",
       "    .dataframe tbody tr th:only-of-type {\n",
       "        vertical-align: middle;\n",
       "    }\n",
       "\n",
       "    .dataframe tbody tr th {\n",
       "        vertical-align: top;\n",
       "    }\n",
       "\n",
       "    .dataframe thead th {\n",
       "        text-align: right;\n",
       "    }\n",
       "</style>\n",
       "<table border=\"1\" class=\"dataframe\">\n",
       "  <thead>\n",
       "    <tr style=\"text-align: right;\">\n",
       "      <th></th>\n",
       "      <th>client_id</th>\n",
       "      <th>tenure_yr</th>\n",
       "      <th>tenure_mnth</th>\n",
       "      <th>age</th>\n",
       "      <th>gender</th>\n",
       "      <th>num_acc</th>\n",
       "      <th>balance</th>\n",
       "      <th>calls</th>\n",
       "      <th>log_ons</th>\n",
       "      <th>variation</th>\n",
       "      <th>visitor_id</th>\n",
       "      <th>visit_id</th>\n",
       "      <th>process_step</th>\n",
       "      <th>date_time</th>\n",
       "      <th>date</th>\n",
       "      <th>time</th>\n",
       "    </tr>\n",
       "  </thead>\n",
       "  <tbody>\n",
       "    <tr>\n",
       "      <th>0</th>\n",
       "      <td>836976</td>\n",
       "      <td>6.0</td>\n",
       "      <td>73.0</td>\n",
       "      <td>60.5</td>\n",
       "      <td>u</td>\n",
       "      <td>2.0</td>\n",
       "      <td>45105.3</td>\n",
       "      <td>6.0</td>\n",
       "      <td>9.0</td>\n",
       "      <td>test</td>\n",
       "      <td>427070339_1413275162</td>\n",
       "      <td>228976764_46825473280_96584</td>\n",
       "      <td>confirm</td>\n",
       "      <td>2017-04-02 11:51:13</td>\n",
       "      <td>2017-04-02</td>\n",
       "      <td>11:51:13</td>\n",
       "    </tr>\n",
       "    <tr>\n",
       "      <th>1</th>\n",
       "      <td>836976</td>\n",
       "      <td>6.0</td>\n",
       "      <td>73.0</td>\n",
       "      <td>60.5</td>\n",
       "      <td>u</td>\n",
       "      <td>2.0</td>\n",
       "      <td>45105.3</td>\n",
       "      <td>6.0</td>\n",
       "      <td>9.0</td>\n",
       "      <td>test</td>\n",
       "      <td>427070339_1413275162</td>\n",
       "      <td>228976764_46825473280_96584</td>\n",
       "      <td>confirm</td>\n",
       "      <td>2017-04-02 11:47:50</td>\n",
       "      <td>2017-04-02</td>\n",
       "      <td>11:47:50</td>\n",
       "    </tr>\n",
       "    <tr>\n",
       "      <th>2</th>\n",
       "      <td>836976</td>\n",
       "      <td>6.0</td>\n",
       "      <td>73.0</td>\n",
       "      <td>60.5</td>\n",
       "      <td>u</td>\n",
       "      <td>2.0</td>\n",
       "      <td>45105.3</td>\n",
       "      <td>6.0</td>\n",
       "      <td>9.0</td>\n",
       "      <td>test</td>\n",
       "      <td>427070339_1413275162</td>\n",
       "      <td>228976764_46825473280_96584</td>\n",
       "      <td>confirm</td>\n",
       "      <td>2017-04-02 11:46:45</td>\n",
       "      <td>2017-04-02</td>\n",
       "      <td>11:46:45</td>\n",
       "    </tr>\n",
       "    <tr>\n",
       "      <th>3</th>\n",
       "      <td>836976</td>\n",
       "      <td>6.0</td>\n",
       "      <td>73.0</td>\n",
       "      <td>60.5</td>\n",
       "      <td>u</td>\n",
       "      <td>2.0</td>\n",
       "      <td>45105.3</td>\n",
       "      <td>6.0</td>\n",
       "      <td>9.0</td>\n",
       "      <td>test</td>\n",
       "      <td>427070339_1413275162</td>\n",
       "      <td>228976764_46825473280_96584</td>\n",
       "      <td>step_3</td>\n",
       "      <td>2017-04-02 11:23:08</td>\n",
       "      <td>2017-04-02</td>\n",
       "      <td>11:23:08</td>\n",
       "    </tr>\n",
       "    <tr>\n",
       "      <th>4</th>\n",
       "      <td>836976</td>\n",
       "      <td>6.0</td>\n",
       "      <td>73.0</td>\n",
       "      <td>60.5</td>\n",
       "      <td>u</td>\n",
       "      <td>2.0</td>\n",
       "      <td>45105.3</td>\n",
       "      <td>6.0</td>\n",
       "      <td>9.0</td>\n",
       "      <td>test</td>\n",
       "      <td>427070339_1413275162</td>\n",
       "      <td>228976764_46825473280_96584</td>\n",
       "      <td>step_2</td>\n",
       "      <td>2017-04-02 11:22:24</td>\n",
       "      <td>2017-04-02</td>\n",
       "      <td>11:22:24</td>\n",
       "    </tr>\n",
       "  </tbody>\n",
       "</table>\n",
       "</div>"
      ],
      "text/plain": [
       "   client_id  tenure_yr  tenure_mnth   age gender  num_acc  balance  calls  \\\n",
       "0     836976        6.0         73.0  60.5      u      2.0  45105.3    6.0   \n",
       "1     836976        6.0         73.0  60.5      u      2.0  45105.3    6.0   \n",
       "2     836976        6.0         73.0  60.5      u      2.0  45105.3    6.0   \n",
       "3     836976        6.0         73.0  60.5      u      2.0  45105.3    6.0   \n",
       "4     836976        6.0         73.0  60.5      u      2.0  45105.3    6.0   \n",
       "\n",
       "   log_ons variation            visitor_id                     visit_id  \\\n",
       "0      9.0      test  427070339_1413275162  228976764_46825473280_96584   \n",
       "1      9.0      test  427070339_1413275162  228976764_46825473280_96584   \n",
       "2      9.0      test  427070339_1413275162  228976764_46825473280_96584   \n",
       "3      9.0      test  427070339_1413275162  228976764_46825473280_96584   \n",
       "4      9.0      test  427070339_1413275162  228976764_46825473280_96584   \n",
       "\n",
       "  process_step            date_time        date      time  \n",
       "0      confirm  2017-04-02 11:51:13  2017-04-02  11:51:13  \n",
       "1      confirm  2017-04-02 11:47:50  2017-04-02  11:47:50  \n",
       "2      confirm  2017-04-02 11:46:45  2017-04-02  11:46:45  \n",
       "3       step_3  2017-04-02 11:23:08  2017-04-02  11:23:08  \n",
       "4       step_2  2017-04-02 11:22:24  2017-04-02  11:22:24  "
      ]
     },
     "execution_count": 25,
     "metadata": {},
     "output_type": "execute_result"
    }
   ],
   "source": [
    "#Merge all datasets and remove unwanted columns\n",
    "final_merged = pd.merge(df_merged, df_digital, on = 'client_id', how = 'inner')\n",
    "columns_to_drop = ['Unnamed: 0_x', 'Unnamed: 0_y', 'Unnamed: 0']\n",
    "final_merged = final_merged.drop(columns=columns_to_drop)\n",
    "final_merged.head()"
   ]
  },
  {
   "cell_type": "code",
   "execution_count": 33,
   "id": "cad9e2da-cd15-452d-bddc-67466c7db804",
   "metadata": {},
   "outputs": [],
   "source": [
    "#Save the merged dataset to CSV format\n",
    "final_merged.to_csv(\"final_df.csv\")"
   ]
  },
  {
   "cell_type": "code",
   "execution_count": 27,
   "id": "f863fae9-1782-4a99-bdfa-8f3edfa3a01f",
   "metadata": {},
   "outputs": [
    {
     "name": "stdout",
     "output_type": "stream",
     "text": [
      "The mean age of clients is 48.53 years\n"
     ]
    }
   ],
   "source": [
    "avg_age = final_merged['age'].mean()\n",
    "print(f\"The mean age of clients is {avg_age:.2f} years\")"
   ]
  },
  {
   "cell_type": "code",
   "execution_count": 39,
   "id": "81223ed9-12b6-403d-960c-725e2cf2afb0",
   "metadata": {},
   "outputs": [
    {
     "data": {
      "text/plain": [
       "317123"
      ]
     },
     "execution_count": 39,
     "metadata": {},
     "output_type": "execute_result"
    }
   ],
   "source": [
    "final_merged.shape[0]"
   ]
  },
  {
   "cell_type": "code",
   "execution_count": 45,
   "id": "7bd5ba94-d579-4dd1-8133-fbf7366474c1",
   "metadata": {},
   "outputs": [
    {
     "name": "stdout",
     "output_type": "stream",
     "text": [
      "There are 102798 female clients\n"
     ]
    }
   ],
   "source": [
    "f_client = final_merged[final_merged['gender'] == 'f']\n",
    "num_female = f_client.shape[0]\n",
    "print(f\"There are {num_female} female clients\")"
   ]
  },
  {
   "cell_type": "code",
   "execution_count": 46,
   "id": "73e47403-df5f-409b-8f13-3a9838d1ea82",
   "metadata": {},
   "outputs": [
    {
     "name": "stdout",
     "output_type": "stream",
     "text": [
      "There are 106703 male clients\n"
     ]
    }
   ],
   "source": [
    "m_client = final_merged[final_merged['gender'] == 'm']\n",
    "num_male = m_client.shape[0]\n",
    "print(f\"There are {num_male} male clients\")"
   ]
  },
  {
   "cell_type": "code",
   "execution_count": 47,
   "id": "fd7dd5e5-50cb-4405-9621-5630cbfb680e",
   "metadata": {},
   "outputs": [
    {
     "name": "stdout",
     "output_type": "stream",
     "text": [
      "There are 107622 unknown clients\n"
     ]
    }
   ],
   "source": [
    "u_client = final_merged[final_merged['gender'] == 'u']\n",
    "num_unknown = u_client.shape[0]\n",
    "print(f\"There are {num_unknown} unknown clients\")"
   ]
  },
  {
   "cell_type": "code",
   "execution_count": 34,
   "id": "1ddc1178-cb77-494f-b1a3-0ec9763c698f",
   "metadata": {},
   "outputs": [
    {
     "name": "stdout",
     "output_type": "stream",
     "text": [
      "There are a total of 50487 unique client IDs\n"
     ]
    }
   ],
   "source": [
    "client_id_set = set(final_merged['client_id'])\n",
    "client_id_list = list(client_id_set)\n",
    "num_unique_values = len(client_id_list)\n",
    "print(f\"There are a total of {num_unique_values} unique client IDs\")"
   ]
  },
  {
   "cell_type": "code",
   "execution_count": 35,
   "id": "25025c28-ca0f-400f-83dc-6b3504279661",
   "metadata": {},
   "outputs": [],
   "source": [
    "#Filter for 'Test' group\n",
    "test_group = final_merged[final_merged['variation'] == 'test']\n",
    "#Filter for 'Control' group\n",
    "control_group = final_merged[final_merged['variation'] == 'control']"
   ]
  },
  {
   "cell_type": "code",
   "execution_count": 36,
   "id": "df3c386b-281c-467b-90b4-d0dafdbeaab9",
   "metadata": {},
   "outputs": [
    {
     "name": "stdout",
     "output_type": "stream",
     "text": [
      "There are a total of 26961 unique client IDs\n"
     ]
    }
   ],
   "source": [
    "test_client_id_set = set(test_group['client_id'])\n",
    "test_client_id_list = list(test_client_id_set)\n",
    "test_num_unique_values = len(test_client_id_list)\n",
    "print(f\"There are a total of {test_num_unique_values} unique client IDs in the 'Test' group\")"
   ]
  },
  {
   "cell_type": "code",
   "execution_count": 37,
   "id": "72ef7f44-769c-47eb-acf5-75adb957dc52",
   "metadata": {},
   "outputs": [
    {
     "name": "stdout",
     "output_type": "stream",
     "text": [
      "There are a total of 23526 unique client IDs in the 'Control' group\n"
     ]
    }
   ],
   "source": [
    "control_client_id_set = set(control_group['client_id'])\n",
    "control_client_id_list = list(control_client_id_set)\n",
    "control_num_unique_values = len(control_client_id_list)\n",
    "print(f\"There are a total of {control_num_unique_values} unique client IDs in the 'Control' group\")"
   ]
  },
  {
   "cell_type": "code",
   "execution_count": 29,
   "id": "0bbea2d8-eaf4-4194-97cc-be23914a87c5",
   "metadata": {},
   "outputs": [
    {
     "name": "stdout",
     "output_type": "stream",
     "text": [
      "The mean age of clients in the 'Test' group is 48.72 years\n",
      "The mean age of clients in the 'Control' group is 48.28 years\n"
     ]
    }
   ],
   "source": [
    "test_group_age = test_group['age'].mean()\n",
    "print(f\"The mean age of clients in the 'Test' group is {test_group_age:.2f} years\")\n",
    "\n",
    "control_group_age = control_group['age'].mean()\n",
    "print(f\"The mean age of clients in the 'Control' group is {control_group_age:.2f} years\")"
   ]
  },
  {
   "cell_type": "code",
   "execution_count": 30,
   "id": "49c6de23-09d1-48d3-b51c-4d3c7acbf67b",
   "metadata": {},
   "outputs": [
    {
     "name": "stdout",
     "output_type": "stream",
     "text": [
      "The mean tenure of clients in the 'Test' group is 12.18 years\n",
      "The mean tenure of clients in the 'Control' group is 12.17 years\n"
     ]
    }
   ],
   "source": [
    "test_group_tenure = test_group['tenure_yr'].mean()\n",
    "print(f\"The mean tenure of clients in the 'Test' group is {test_group_tenure:.2f} years\")\n",
    "control_group_tenure = control_group['tenure_yr'].mean()\n",
    "print(f\"The mean tenure of clients in the 'Control' group is {control_group_tenure:.2f} years\")"
   ]
  },
  {
   "cell_type": "code",
   "execution_count": 31,
   "id": "00edd4c7-21c1-47d9-8941-6370cee14ce4",
   "metadata": {},
   "outputs": [
    {
     "name": "stdout",
     "output_type": "stream",
     "text": [
      "The mean number of calls made in the last 6 months by the 'Test' group is 3.20 times\n",
      "The mean number of calls made in the last 6 months by the 'Control' group is 3.27 times\n"
     ]
    }
   ],
   "source": [
    "test_group_call = test_group['calls'].mean()\n",
    "print(f\"The mean number of calls made in the last 6 months by the 'Test' group is {test_group_call:.2f} times\")\n",
    "control_group_call = control_group['calls'].mean()\n",
    "print(f\"The mean number of calls made in the last 6 months by the 'Control' group is {control_group_call:.2f} times\")"
   ]
  },
  {
   "cell_type": "code",
   "execution_count": 32,
   "id": "74f34378-2f0b-4901-bc9b-7651a86c01bf",
   "metadata": {},
   "outputs": [
    {
     "name": "stdout",
     "output_type": "stream",
     "text": [
      "The mean number of log ons made in the last 6 months by the 'Test' group is 6.24 times\n",
      "The mean number of log ons made in the last 6 months by the 'Control' group is 6.30 times\n"
     ]
    }
   ],
   "source": [
    "test_group_logons = test_group['log_ons'].mean()\n",
    "print(f\"The mean number of log ons made in the last 6 months by the 'Test' group is {test_group_logons:.2f} times\")\n",
    "control_group_logons = control_group['log_ons'].mean()\n",
    "print(f\"The mean number of log ons made in the last 6 months by the 'Control' group is {control_group_logons:.2f} times\")"
   ]
  }
 ],
 "metadata": {
  "kernelspec": {
   "display_name": "p2_venv",
   "language": "python",
   "name": "p2_venv"
  },
  "language_info": {
   "codemirror_mode": {
    "name": "ipython",
    "version": 3
   },
   "file_extension": ".py",
   "mimetype": "text/x-python",
   "name": "python",
   "nbconvert_exporter": "python",
   "pygments_lexer": "ipython3",
   "version": "3.11.7"
  }
 },
 "nbformat": 4,
 "nbformat_minor": 5
}
