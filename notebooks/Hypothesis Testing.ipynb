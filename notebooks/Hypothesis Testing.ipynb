{
 "cells": [
  {
   "cell_type": "markdown",
   "id": "b422ac3e-fb2c-48cf-bea5-d1167973d5c7",
   "metadata": {},
   "source": [
    "# Hypothesis Testing"
   ]
  },
  {
   "cell_type": "code",
   "execution_count": 2,
   "id": "007d498e-dcb4-4e27-870d-84d3753dacac",
   "metadata": {},
   "outputs": [],
   "source": [
    "#Libraries\n",
    "import pandas as pd\n",
    "import numpy as np\n",
    "import matplotlib.pyplot as plt\n",
    "import scipy.stats as st"
   ]
  },
  {
   "cell_type": "code",
   "execution_count": 6,
   "id": "962ab8e4-520a-4117-91fb-1eb80f00ee77",
   "metadata": {},
   "outputs": [
    {
     "data": {
      "text/html": [
       "<div>\n",
       "<style scoped>\n",
       "    .dataframe tbody tr th:only-of-type {\n",
       "        vertical-align: middle;\n",
       "    }\n",
       "\n",
       "    .dataframe tbody tr th {\n",
       "        vertical-align: top;\n",
       "    }\n",
       "\n",
       "    .dataframe thead th {\n",
       "        text-align: right;\n",
       "    }\n",
       "</style>\n",
       "<table border=\"1\" class=\"dataframe\">\n",
       "  <thead>\n",
       "    <tr style=\"text-align: right;\">\n",
       "      <th></th>\n",
       "      <th>client_id</th>\n",
       "      <th>tenure_yr</th>\n",
       "      <th>tenure_mnth</th>\n",
       "      <th>age</th>\n",
       "      <th>gender</th>\n",
       "      <th>num_acc</th>\n",
       "      <th>balance</th>\n",
       "      <th>calls</th>\n",
       "      <th>log_ons</th>\n",
       "      <th>variation</th>\n",
       "      <th>...</th>\n",
       "      <th>visit_id</th>\n",
       "      <th>process_step</th>\n",
       "      <th>date_time</th>\n",
       "      <th>date</th>\n",
       "      <th>time</th>\n",
       "      <th>completion_rate</th>\n",
       "      <th>average_step_duration_seconds</th>\n",
       "      <th>avg_duration</th>\n",
       "      <th>error_rate_by_step</th>\n",
       "      <th>error_rate</th>\n",
       "    </tr>\n",
       "  </thead>\n",
       "  <tbody>\n",
       "    <tr>\n",
       "      <th>0</th>\n",
       "      <td>555</td>\n",
       "      <td>3.0</td>\n",
       "      <td>46.0</td>\n",
       "      <td>29.5</td>\n",
       "      <td>u</td>\n",
       "      <td>2.0</td>\n",
       "      <td>25454.66</td>\n",
       "      <td>2.0</td>\n",
       "      <td>6.0</td>\n",
       "      <td>test</td>\n",
       "      <td>...</td>\n",
       "      <td>637149525_38041617439_716659</td>\n",
       "      <td>start</td>\n",
       "      <td>2017-04-15 12:57:56</td>\n",
       "      <td>2017-04-15</td>\n",
       "      <td>12:57:56</td>\n",
       "      <td>0.692927</td>\n",
       "      <td>31.286976</td>\n",
       "      <td>47.831799</td>\n",
       "      <td>0.000000</td>\n",
       "      <td>0.103673</td>\n",
       "    </tr>\n",
       "    <tr>\n",
       "      <th>1</th>\n",
       "      <td>555</td>\n",
       "      <td>3.0</td>\n",
       "      <td>46.0</td>\n",
       "      <td>29.5</td>\n",
       "      <td>u</td>\n",
       "      <td>2.0</td>\n",
       "      <td>25454.66</td>\n",
       "      <td>2.0</td>\n",
       "      <td>6.0</td>\n",
       "      <td>test</td>\n",
       "      <td>...</td>\n",
       "      <td>637149525_38041617439_716659</td>\n",
       "      <td>step_1</td>\n",
       "      <td>2017-04-15 12:58:03</td>\n",
       "      <td>2017-04-15</td>\n",
       "      <td>12:58:03</td>\n",
       "      <td>0.692927</td>\n",
       "      <td>39.568196</td>\n",
       "      <td>47.831799</td>\n",
       "      <td>0.143494</td>\n",
       "      <td>0.103673</td>\n",
       "    </tr>\n",
       "    <tr>\n",
       "      <th>2</th>\n",
       "      <td>555</td>\n",
       "      <td>3.0</td>\n",
       "      <td>46.0</td>\n",
       "      <td>29.5</td>\n",
       "      <td>u</td>\n",
       "      <td>2.0</td>\n",
       "      <td>25454.66</td>\n",
       "      <td>2.0</td>\n",
       "      <td>6.0</td>\n",
       "      <td>test</td>\n",
       "      <td>...</td>\n",
       "      <td>637149525_38041617439_716659</td>\n",
       "      <td>step_2</td>\n",
       "      <td>2017-04-15 12:58:35</td>\n",
       "      <td>2017-04-15</td>\n",
       "      <td>12:58:35</td>\n",
       "      <td>0.692927</td>\n",
       "      <td>67.548211</td>\n",
       "      <td>47.831799</td>\n",
       "      <td>0.172344</td>\n",
       "      <td>0.103673</td>\n",
       "    </tr>\n",
       "    <tr>\n",
       "      <th>3</th>\n",
       "      <td>555</td>\n",
       "      <td>3.0</td>\n",
       "      <td>46.0</td>\n",
       "      <td>29.5</td>\n",
       "      <td>u</td>\n",
       "      <td>2.0</td>\n",
       "      <td>25454.66</td>\n",
       "      <td>2.0</td>\n",
       "      <td>6.0</td>\n",
       "      <td>test</td>\n",
       "      <td>...</td>\n",
       "      <td>637149525_38041617439_716659</td>\n",
       "      <td>step_3</td>\n",
       "      <td>2017-04-15 13:00:14</td>\n",
       "      <td>2017-04-15</td>\n",
       "      <td>13:00:14</td>\n",
       "      <td>0.692927</td>\n",
       "      <td>65.540621</td>\n",
       "      <td>47.831799</td>\n",
       "      <td>0.170609</td>\n",
       "      <td>0.103673</td>\n",
       "    </tr>\n",
       "    <tr>\n",
       "      <th>4</th>\n",
       "      <td>647</td>\n",
       "      <td>12.0</td>\n",
       "      <td>151.0</td>\n",
       "      <td>57.5</td>\n",
       "      <td>m</td>\n",
       "      <td>2.0</td>\n",
       "      <td>30525.80</td>\n",
       "      <td>0.0</td>\n",
       "      <td>4.0</td>\n",
       "      <td>test</td>\n",
       "      <td>...</td>\n",
       "      <td>40369564_40101682850_311847</td>\n",
       "      <td>start</td>\n",
       "      <td>2017-04-12 15:41:28</td>\n",
       "      <td>2017-04-12</td>\n",
       "      <td>15:41:28</td>\n",
       "      <td>0.692927</td>\n",
       "      <td>31.286976</td>\n",
       "      <td>47.831799</td>\n",
       "      <td>0.000000</td>\n",
       "      <td>0.103673</td>\n",
       "    </tr>\n",
       "  </tbody>\n",
       "</table>\n",
       "<p>5 rows × 21 columns</p>\n",
       "</div>"
      ],
      "text/plain": [
       "   client_id  tenure_yr  tenure_mnth   age gender  num_acc   balance  calls  \\\n",
       "0        555        3.0         46.0  29.5      u      2.0  25454.66    2.0   \n",
       "1        555        3.0         46.0  29.5      u      2.0  25454.66    2.0   \n",
       "2        555        3.0         46.0  29.5      u      2.0  25454.66    2.0   \n",
       "3        555        3.0         46.0  29.5      u      2.0  25454.66    2.0   \n",
       "4        647       12.0        151.0  57.5      m      2.0  30525.80    0.0   \n",
       "\n",
       "   log_ons variation  ...                      visit_id process_step  \\\n",
       "0      6.0      test  ...  637149525_38041617439_716659        start   \n",
       "1      6.0      test  ...  637149525_38041617439_716659       step_1   \n",
       "2      6.0      test  ...  637149525_38041617439_716659       step_2   \n",
       "3      6.0      test  ...  637149525_38041617439_716659       step_3   \n",
       "4      4.0      test  ...   40369564_40101682850_311847        start   \n",
       "\n",
       "             date_time        date      time completion_rate  \\\n",
       "0  2017-04-15 12:57:56  2017-04-15  12:57:56        0.692927   \n",
       "1  2017-04-15 12:58:03  2017-04-15  12:58:03        0.692927   \n",
       "2  2017-04-15 12:58:35  2017-04-15  12:58:35        0.692927   \n",
       "3  2017-04-15 13:00:14  2017-04-15  13:00:14        0.692927   \n",
       "4  2017-04-12 15:41:28  2017-04-12  15:41:28        0.692927   \n",
       "\n",
       "   average_step_duration_seconds  avg_duration  error_rate_by_step  error_rate  \n",
       "0                      31.286976     47.831799            0.000000    0.103673  \n",
       "1                      39.568196     47.831799            0.143494    0.103673  \n",
       "2                      67.548211     47.831799            0.172344    0.103673  \n",
       "3                      65.540621     47.831799            0.170609    0.103673  \n",
       "4                      31.286976     47.831799            0.000000    0.103673  \n",
       "\n",
       "[5 rows x 21 columns]"
      ]
     },
     "execution_count": 6,
     "metadata": {},
     "output_type": "execute_result"
    }
   ],
   "source": [
    "#Load dataset\n",
    "df = pd.read_csv(\"../data/clean/tableau.csv\")\n",
    "columns_to_drop = ['Unnamed: 0']\n",
    "df = df.drop(columns=columns_to_drop)\n",
    "df.head()"
   ]
  },
  {
   "cell_type": "code",
   "execution_count": 7,
   "id": "9d6a75e9-2015-461f-ba5b-28fe2e992ee6",
   "metadata": {},
   "outputs": [],
   "source": [
    "#Filter for 'Test' group\n",
    "test_group = df[df['variation'] == 'test']\n",
    "#Filter for 'Control' group\n",
    "control_group = df[df['variation'] == 'control']"
   ]
  },
  {
   "cell_type": "markdown",
   "id": "f34c235a-e451-4883-b2d3-2d18a0745f65",
   "metadata": {},
   "source": [
    "$$H0: Test group completion rate = Control group completion rate$$\n",
    "$$H1: Test group completion rate \\neq Control group completion rate$$"
   ]
  },
  {
   "cell_type": "markdown",
   "id": "38984cbd-aabc-486c-9091-4d2e80c331e8",
   "metadata": {},
   "source": [
    "$$H0:Test_{ratio}-Control_{ratio}=0$$\n",
    "$$H1: Test_{ratio}-Control_{ratio} \\ne 0$$"
   ]
  },
  {
   "cell_type": "code",
   "execution_count": 8,
   "id": "21f1a47e-4b6c-4f2c-bb88-35e940601fc7",
   "metadata": {},
   "outputs": [
    {
     "name": "stdout",
     "output_type": "stream",
     "text": [
      "Z-statistics: 13.253\n",
      "p-value: 0.000\n",
      "Reject the null hypothesis. The completion rates are significantly different.\n"
     ]
    }
   ],
   "source": [
    "import statsmodels.api as sm\n",
    "\n",
    "#Calculate the number of completions and total number of clients in the test group\n",
    "completion_test = test_group[test_group['process_step'] == 'confirm']['client_id'].nunique()\n",
    "total_test = test_group['client_id'].nunique()\n",
    "\n",
    "#Calculate the number of completions and total number of clients in the test group\n",
    "completion_control = control_group[control_group['process_step'] == 'confirm']['client_id'].nunique()\n",
    "total_control = control_group['client_id'].nunique()\n",
    "\n",
    "#completion counts and sample sizes\n",
    "counts = [completion_test, completion_control]\n",
    "nobs = [total_test, total_control]\n",
    "\n",
    "#two-proportion z-test\n",
    "z_stat, p_value = sm.stats.proportions_ztest(counts, nobs)\n",
    "\n",
    "print(f\"Z-statistics: {z_stat:.3f}\")\n",
    "print(f\"p-value: {p_value:.3f}\")\n",
    "\n",
    "alpha = 0.05\n",
    "if p_value < alpha:\n",
    "    print(\"Reject the null hypothesis. The completion rates are significantly different.\")\n",
    "else:\n",
    "    print(\"Fail to reject the null hypothesis. The completion rates are not significantly different.\")"
   ]
  },
  {
   "cell_type": "markdown",
   "id": "272fc7db-d92d-4de8-a806-c7d9ae50597c",
   "metadata": {},
   "source": [
    "With a Z-statistic of 8.893 and a p-value much smaller than 0.05, there is strong evidence to reject the null hypothesis. This result indicates a statistically significant difference in completion rates between the two groups, suggesting that the intervention or change applied to the test group had a significant impact on completion rates"
   ]
  },
  {
   "cell_type": "code",
   "execution_count": null,
   "id": "45a67e96-56c0-4f2a-889b-1bbe36dad2ac",
   "metadata": {},
   "outputs": [],
   "source": [
    "$$H0: Test group completion rate <= Control group completion rate + 5%$$\n",
    "$$H1: Test group completion rate > Control group completion rate + 5%$$"
   ]
  },
  {
   "cell_type": "code",
   "execution_count": 9,
   "id": "ee558b82-1739-4694-8909-841d241102ac",
   "metadata": {},
   "outputs": [
    {
     "name": "stdout",
     "output_type": "stream",
     "text": [
      "The observed increase in completion rate does not meet the 5% threshold.\n"
     ]
    }
   ],
   "source": [
    "#Calculate the completion rate of Test group\n",
    "completion_rate_test = completion_test / total_test\n",
    "#Calculate the completion rate of Control group\n",
    "completion_rate_control = completion_control / total_control\n",
    "\n",
    "#Calculate whether observed increase is higher than the threshold of 5%\n",
    "observed_increase = completion_rate_test - completion_rate_control\n",
    "threshold = 0.05\n",
    "\n",
    "if observed_increase > 0.05:\n",
    "    print(\"The observed increase in completion rate meets or exceeds the 5% threshold.\")\n",
    "else:\n",
    "    print(\"The observed increase in completion rate does not meet the 5% threshold.\")"
   ]
  },
  {
   "cell_type": "code",
   "execution_count": 12,
   "id": "a5918e35-60bf-4d6f-ac93-0f83185fe6a7",
   "metadata": {},
   "outputs": [
    {
     "name": "stdout",
     "output_type": "stream",
     "text": [
      "Z-statistics: -7.218\n",
      "p-value: 1.000\n",
      "Fail to reject the null hypothesis. The completion rates are not significantly different.\n"
     ]
    }
   ],
   "source": [
    "from statsmodels.stats.proportion import proportions_ztest\n",
    "\n",
    "#Perform hypothesis testing using one-sided z-test\n",
    "counts = [completion_test, completion_control]\n",
    "nobs = [total_test, total_control]\n",
    "\n",
    "threshold = 0.05\n",
    "\n",
    "#two-proportion z-test (one-sided)\n",
    "z_statistic, p_val = proportions_ztest(counts, nobs, value=threshold, alternative='larger')\n",
    "\n",
    "print(f\"Z-statistics: {z_statistic:.3f}\")\n",
    "print(f\"p-value: {p_val:.3f}\")\n",
    "\n",
    "alpha = 0.05\n",
    "if p_val < alpha:\n",
    "    print(\"Reject the null hypothesis. The completion rates are significantly different.\")\n",
    "else:\n",
    "    print(\"Fail to reject the null hypothesis. The completion rates are not significantly different.\")"
   ]
  },
  {
   "cell_type": "markdown",
   "id": "e4c7ec65-0d96-46ca-b45a-0f2e71971d72",
   "metadata": {},
   "source": [
    "The observed increase in completion rate does not meet the 5% threshold. Therefore, despite any statistical significance, the practical significance criterion set by Vanguard is not met. Hence, the new UI design may not be justified from a cost perspective."
   ]
  }
 ],
 "metadata": {
  "kernelspec": {
   "display_name": "p2_venv",
   "language": "python",
   "name": "p2_venv"
  },
  "language_info": {
   "codemirror_mode": {
    "name": "ipython",
    "version": 3
   },
   "file_extension": ".py",
   "mimetype": "text/x-python",
   "name": "python",
   "nbconvert_exporter": "python",
   "pygments_lexer": "ipython3",
   "version": "3.11.7"
  }
 },
 "nbformat": 4,
 "nbformat_minor": 5
}
